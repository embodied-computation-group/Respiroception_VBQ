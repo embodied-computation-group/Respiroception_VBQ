{
 "cells": [
  {
   "cell_type": "markdown",
   "metadata": {},
   "source": [
    "#  Microstructural brain correlates of inter-individual differences in respiratory interoception \n",
    "\n",
    "## Notebook for analysis of behavioural data "
   ]
  },
  {
   "cell_type": "markdown",
   "metadata": {},
   "source": [
    "### Set up environment"
   ]
  },
  {
   "cell_type": "code",
   "execution_count": 1,
   "metadata": {},
   "outputs": [
    {
     "name": "stderr",
     "output_type": "stream",
     "text": [
      "Matplotlib created a temporary cache directory at /var/folders/wh/fsqw487n2kz8s4zncj30yj2dk1v6zh/T/matplotlib-7ddlhm09 because the default path (/Users/au657961/.matplotlib) is not a writable directory; it is highly recommended to set the MPLCONFIGDIR environment variable to a writable directory, in particular to speed up the import of Matplotlib and to better support multiprocessing.\n"
     ]
    }
   ],
   "source": [
    "# Use neurosci environment\n",
    "import pandas as pd\n",
    "import seaborn as sns\n",
    "import numpy as np\n",
    "import matplotlib as mpl\n",
    "import matplotlib.pyplot as plt\n",
    "from scipy.stats import norm\n",
    "import math\n",
    "\n",
    "data_dir = '/Users/au657961/github/Respiroception_VBQ/data'\n",
    "figures_dir = '/Users/au657961/github/Respiroception_VBQ/figures'"
   ]
  },
  {
   "cell_type": "code",
   "execution_count": 9,
   "metadata": {},
   "outputs": [],
   "source": [
    "# Figure saving options\n",
    "flag_savefigs = False\n",
    "\n",
    "fontsize_axis_ticks = 24\n",
    "fontsize_axis_labels = 32\n",
    "\n",
    "axis_thickness = 2"
   ]
  },
  {
   "cell_type": "markdown",
   "metadata": {},
   "source": [
    "## Load the data"
   ]
  },
  {
   "cell_type": "markdown",
   "metadata": {},
   "source": [
    "### Load the RRST behavioural data for the full sample"
   ]
  },
  {
   "cell_type": "code",
   "execution_count": 2,
   "metadata": {},
   "outputs": [],
   "source": [
    "rrst_data_fpath = f'{data_dir}/rrst_behav_data_full.csv'\n",
    "rrst_data_full = pd.read_csv(rrst_data_fpath)\n",
    "\n",
    "# Rename selected columns\n",
    "rrst_data_full = rrst_data_full.rename(columns={'ID': 'id'})"
   ]
  },
  {
   "cell_type": "markdown",
   "metadata": {},
   "source": [
    "### Load the RRST behavioural data only for subject included in the VBQ analysis"
   ]
  },
  {
   "cell_type": "code",
   "execution_count": 3,
   "metadata": {},
   "outputs": [],
   "source": [
    "vbq_data_fpath = f'{data_dir}/rrst_behav_data_vbq_subset.csv'\n",
    "rrst_data_subset = pd.read_csv(vbq_data_fpath)"
   ]
  },
  {
   "cell_type": "markdown",
   "metadata": {},
   "source": [
    "## Figures"
   ]
  },
  {
   "cell_type": "markdown",
   "metadata": {},
   "source": [
    "### Group psychometric function"
   ]
  },
  {
   "cell_type": "code",
   "execution_count": null,
   "metadata": {},
   "outputs": [],
   "source": [
    "fig_filename = 'rrst_group_pmf.png'\n",
    "\n",
    "def cumGaussPsychFunc(x, intercept, slope, lower_asymptote):\n",
    "    return lower_asymptote + (1 - lower_asymptote) * norm.cdf((x * slope + intercept))\n",
    "    #return lower_asymptote + (1 - 2 * lower_asymptote) * norm.cdf((x - intercept) / slope)\n",
    "\n",
    "x = np.linspace(2, 18, 1000)\n",
    "\n",
    "# Create a square plot\n",
    "plt.figure(figsize=(8.5,8.5))\n",
    "mpl.rcParams['font.family'] = 'Helvetica'\n",
    "\n",
    "\n",
    "# Add gridlines\n",
    "plt.grid(True)\n",
    "  \n",
    "for index, row in rrst_data_full.iterrows():\n",
    "    intercept = row['ind_esti_int']\n",
    "    slope = row['ind_esti_slope']\n",
    "    lower_asymptote = row['hier_guess']\n",
    "    y = cumGaussPsychFunc(x, intercept, slope, lower_asymptote)\n",
    "    # Draw grey functions with thinner lines\n",
    "    plt.plot(x, y, color='lightgrey', linewidth=0.5)\n",
    "\n",
    "scale_f = np.divide(100,17)\n",
    "mean_intercept = rrst_data_full['ind_esti_int'].mean()\n",
    "mean_slope = rrst_data_full['ind_esti_slope'].mean()\n",
    "mean_lower_asymptote = rrst_data_full['hier_guess'].mean()\n",
    "thresh_mean = rrst_data_full['real_intercept_ind'].mean()*scale_f\n",
    "mean_slope_real = rrst_data_full['real_slope_ind'].mean()\n",
    "\n",
    "thresh_sd = (np.std(rrst_data_full['real_intercept_ind'])) * scale_f\n",
    "thresh_min = (np.min(rrst_data_full['real_intercept_ind'])) * scale_f\n",
    "thresh_max = (np.max(rrst_data_full['real_intercept_ind'])) * scale_f\n",
    "\n",
    "print('thresh_mean', thresh_mean, '\\nthresh_sd', thresh_sd, '\\nthresh_min', thresh_min, '\\nthresh_max', thresh_max)\n",
    "print('Slope mean: ',mean_slope_real)\n",
    "\n",
    "y_mean = cumGaussPsychFunc(x, mean_intercept, mean_slope, mean_lower_asymptote)\n",
    "\n",
    "# Draw the mean function with a thicker line\n",
    "plt.plot(x, y_mean, color=(0.87, 0.76, 0.49), linewidth=8.0)\n",
    "\n",
    "# Draw lines and point indicating mean threshold\n",
    "mean_int_x = 12.5\n",
    "plt.plot([np.min(x), mean_int_x], [0.75, 0.75], color='teal', linestyle='--', linewidth=4)\n",
    "plt.plot([mean_int_x, mean_int_x], [np.min(y), 0.75], color='teal', linestyle='--', linewidth=4)\n",
    "plt.scatter(12.5, 0.75, s=400, color='teal', edgecolor='teal', zorder=5) # s defines the size\n",
    "\n",
    "\n",
    "plt.xlabel('% Obstruction', fontsize=fontsize_axis_labels)\n",
    "plt.ylabel('p(correct response)', fontsize=fontsize_axis_labels)\n",
    "\n",
    "plt.yticks(fontsize=fontsize_axis_ticks)\n",
    "plt.xticks([3.4, 6.8, 10.2, 13.6, 17], ['20', '40', '60', '80', '100'], fontsize=fontsize_axis_ticks)\n",
    "\n",
    "# Remove frame\n",
    "ax = plt.gca()  # gca stands for 'get current axis'\n",
    "ax.spines['right'].set_visible(False)\n",
    "ax.spines['top'].set_visible(False)\n",
    "# Increase the thickness of the axis\n",
    "for axis in ['bottom','left']:\n",
    "    ax.spines[axis].set_linewidth(4)\n",
    "\n",
    "# Add text for thresh value\n",
    "plt.text(2.2, 0.95, 'Group threshold = 72.70%', fontsize=fontsize_axis_labels, bbox={'facecolor': 'teal', 'alpha': 0.25, 'pad': 8, 'edgecolor':'none'})\n",
    "\n",
    "# Adjust layout to prevent clipping at the bottom\n",
    "plt.tight_layout(rect=[0, 0, 1, 0.95])  # Adjust the bottom margin as needed (0.95 leaves 5% space at the bottom)\n",
    "\n",
    "\n",
    "if flag_savefigs:\n",
    "    # Save the figure with a specified size and resolution\n",
    "    fig_filepath = f'{figures_dir}{fig_filename}'\n",
    "    plt.savefig(fig_filepath, dpi=300)\n",
    "\n",
    "\n",
    "plt.show()\n",
    "\n"
   ]
  }
 ],
 "metadata": {
  "kernelspec": {
   "display_name": "neurosci",
   "language": "python",
   "name": "python3"
  },
  "language_info": {
   "codemirror_mode": {
    "name": "ipython",
    "version": 3
   },
   "file_extension": ".py",
   "mimetype": "text/x-python",
   "name": "python",
   "nbconvert_exporter": "python",
   "pygments_lexer": "ipython3",
   "version": "3.12.0"
  }
 },
 "nbformat": 4,
 "nbformat_minor": 2
}
